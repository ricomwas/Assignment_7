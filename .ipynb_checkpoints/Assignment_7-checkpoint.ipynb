{
 "cells": [
  {
   "cell_type": "code",
   "execution_count": 2,
   "metadata": {},
   "outputs": [],
   "source": [
    "import pandas as pd\n",
    "pd.pandas.set_option('display.max_columns', None)\n",
    "\n",
    "import numpy as np\n",
    "from scipy import stats\n",
    "\n",
    "# for plotting\n",
    "import matplotlib.pyplot as plt\n",
    "%matplotlib inline\n",
    "\n",
    "import seaborn as sns\n",
    "\n",
    "from sklearn.feature_selection import RFE\n",
    "from sklearn.feature_selection import RFECV\n",
    "from sklearn.metrics import accuracy_score, f1_score\n",
    "from sklearn.metrics import f1_score, confusion_matrix\n",
    "from sklearn.model_selection import train_test_split\n",
    "\n",
    "import warnings\n",
    "warnings.filterwarnings('ignore')"
   ]
  },
  {
   "cell_type": "code",
   "execution_count": 3,
   "metadata": {},
   "outputs": [],
   "source": [
    "# Importing CSV file\n",
    "df = pd.read_csv('/home/eric/Documents/datascience-class/Assignment_7/insurance.csv')"
   ]
  },
  {
   "cell_type": "code",
   "execution_count": 4,
   "metadata": {},
   "outputs": [
    {
     "data": {
      "text/html": [
       "<div>\n",
       "<style scoped>\n",
       "    .dataframe tbody tr th:only-of-type {\n",
       "        vertical-align: middle;\n",
       "    }\n",
       "\n",
       "    .dataframe tbody tr th {\n",
       "        vertical-align: top;\n",
       "    }\n",
       "\n",
       "    .dataframe thead th {\n",
       "        text-align: right;\n",
       "    }\n",
       "</style>\n",
       "<table border=\"1\" class=\"dataframe\">\n",
       "  <thead>\n",
       "    <tr style=\"text-align: right;\">\n",
       "      <th></th>\n",
       "      <th>age</th>\n",
       "      <th>sex</th>\n",
       "      <th>bmi</th>\n",
       "      <th>children</th>\n",
       "      <th>smoker</th>\n",
       "      <th>region</th>\n",
       "      <th>charges</th>\n",
       "    </tr>\n",
       "  </thead>\n",
       "  <tbody>\n",
       "    <tr>\n",
       "      <th>0</th>\n",
       "      <td>19</td>\n",
       "      <td>female</td>\n",
       "      <td>27.900</td>\n",
       "      <td>0</td>\n",
       "      <td>yes</td>\n",
       "      <td>southwest</td>\n",
       "      <td>16884.92400</td>\n",
       "    </tr>\n",
       "    <tr>\n",
       "      <th>1</th>\n",
       "      <td>18</td>\n",
       "      <td>male</td>\n",
       "      <td>33.770</td>\n",
       "      <td>1</td>\n",
       "      <td>no</td>\n",
       "      <td>southeast</td>\n",
       "      <td>1725.55230</td>\n",
       "    </tr>\n",
       "    <tr>\n",
       "      <th>2</th>\n",
       "      <td>28</td>\n",
       "      <td>male</td>\n",
       "      <td>33.000</td>\n",
       "      <td>3</td>\n",
       "      <td>no</td>\n",
       "      <td>southeast</td>\n",
       "      <td>4449.46200</td>\n",
       "    </tr>\n",
       "    <tr>\n",
       "      <th>3</th>\n",
       "      <td>33</td>\n",
       "      <td>male</td>\n",
       "      <td>22.705</td>\n",
       "      <td>0</td>\n",
       "      <td>no</td>\n",
       "      <td>northwest</td>\n",
       "      <td>21984.47061</td>\n",
       "    </tr>\n",
       "    <tr>\n",
       "      <th>4</th>\n",
       "      <td>32</td>\n",
       "      <td>male</td>\n",
       "      <td>28.880</td>\n",
       "      <td>0</td>\n",
       "      <td>no</td>\n",
       "      <td>northwest</td>\n",
       "      <td>3866.85520</td>\n",
       "    </tr>\n",
       "  </tbody>\n",
       "</table>\n",
       "</div>"
      ],
      "text/plain": [
       "   age     sex     bmi  children smoker     region      charges\n",
       "0   19  female  27.900         0    yes  southwest  16884.92400\n",
       "1   18    male  33.770         1     no  southeast   1725.55230\n",
       "2   28    male  33.000         3     no  southeast   4449.46200\n",
       "3   33    male  22.705         0     no  northwest  21984.47061\n",
       "4   32    male  28.880         0     no  northwest   3866.85520"
      ]
     },
     "execution_count": 4,
     "metadata": {},
     "output_type": "execute_result"
    }
   ],
   "source": [
    "df.head()"
   ]
  },
  {
   "cell_type": "code",
   "execution_count": 5,
   "metadata": {},
   "outputs": [
    {
     "name": "stdout",
     "output_type": "stream",
     "text": [
      "<class 'pandas.core.frame.DataFrame'>\n",
      "RangeIndex: 1338 entries, 0 to 1337\n",
      "Data columns (total 7 columns):\n",
      " #   Column    Non-Null Count  Dtype  \n",
      "---  ------    --------------  -----  \n",
      " 0   age       1338 non-null   int64  \n",
      " 1   sex       1338 non-null   object \n",
      " 2   bmi       1338 non-null   float64\n",
      " 3   children  1338 non-null   int64  \n",
      " 4   smoker    1338 non-null   object \n",
      " 5   region    1338 non-null   object \n",
      " 6   charges   1338 non-null   float64\n",
      "dtypes: float64(2), int64(2), object(3)\n",
      "memory usage: 73.3+ KB\n"
     ]
    }
   ],
   "source": [
    "df.info()"
   ]
  },
  {
   "cell_type": "code",
   "execution_count": 6,
   "metadata": {},
   "outputs": [
    {
     "data": {
      "text/html": [
       "<div>\n",
       "<style scoped>\n",
       "    .dataframe tbody tr th:only-of-type {\n",
       "        vertical-align: middle;\n",
       "    }\n",
       "\n",
       "    .dataframe tbody tr th {\n",
       "        vertical-align: top;\n",
       "    }\n",
       "\n",
       "    .dataframe thead th {\n",
       "        text-align: right;\n",
       "    }\n",
       "</style>\n",
       "<table border=\"1\" class=\"dataframe\">\n",
       "  <thead>\n",
       "    <tr style=\"text-align: right;\">\n",
       "      <th></th>\n",
       "      <th>age</th>\n",
       "      <th>bmi</th>\n",
       "      <th>children</th>\n",
       "      <th>charges</th>\n",
       "    </tr>\n",
       "  </thead>\n",
       "  <tbody>\n",
       "    <tr>\n",
       "      <th>count</th>\n",
       "      <td>1338.000000</td>\n",
       "      <td>1338.000000</td>\n",
       "      <td>1338.000000</td>\n",
       "      <td>1338.000000</td>\n",
       "    </tr>\n",
       "    <tr>\n",
       "      <th>mean</th>\n",
       "      <td>39.207025</td>\n",
       "      <td>30.663397</td>\n",
       "      <td>1.094918</td>\n",
       "      <td>13270.422265</td>\n",
       "    </tr>\n",
       "    <tr>\n",
       "      <th>std</th>\n",
       "      <td>14.049960</td>\n",
       "      <td>6.098187</td>\n",
       "      <td>1.205493</td>\n",
       "      <td>12110.011237</td>\n",
       "    </tr>\n",
       "    <tr>\n",
       "      <th>min</th>\n",
       "      <td>18.000000</td>\n",
       "      <td>15.960000</td>\n",
       "      <td>0.000000</td>\n",
       "      <td>1121.873900</td>\n",
       "    </tr>\n",
       "    <tr>\n",
       "      <th>25%</th>\n",
       "      <td>27.000000</td>\n",
       "      <td>26.296250</td>\n",
       "      <td>0.000000</td>\n",
       "      <td>4740.287150</td>\n",
       "    </tr>\n",
       "    <tr>\n",
       "      <th>50%</th>\n",
       "      <td>39.000000</td>\n",
       "      <td>30.400000</td>\n",
       "      <td>1.000000</td>\n",
       "      <td>9382.033000</td>\n",
       "    </tr>\n",
       "    <tr>\n",
       "      <th>75%</th>\n",
       "      <td>51.000000</td>\n",
       "      <td>34.693750</td>\n",
       "      <td>2.000000</td>\n",
       "      <td>16639.912515</td>\n",
       "    </tr>\n",
       "    <tr>\n",
       "      <th>max</th>\n",
       "      <td>64.000000</td>\n",
       "      <td>53.130000</td>\n",
       "      <td>5.000000</td>\n",
       "      <td>63770.428010</td>\n",
       "    </tr>\n",
       "  </tbody>\n",
       "</table>\n",
       "</div>"
      ],
      "text/plain": [
       "               age          bmi     children       charges\n",
       "count  1338.000000  1338.000000  1338.000000   1338.000000\n",
       "mean     39.207025    30.663397     1.094918  13270.422265\n",
       "std      14.049960     6.098187     1.205493  12110.011237\n",
       "min      18.000000    15.960000     0.000000   1121.873900\n",
       "25%      27.000000    26.296250     0.000000   4740.287150\n",
       "50%      39.000000    30.400000     1.000000   9382.033000\n",
       "75%      51.000000    34.693750     2.000000  16639.912515\n",
       "max      64.000000    53.130000     5.000000  63770.428010"
      ]
     },
     "execution_count": 6,
     "metadata": {},
     "output_type": "execute_result"
    }
   ],
   "source": [
    "df.describe()"
   ]
  },
  {
   "cell_type": "code",
   "execution_count": 7,
   "metadata": {},
   "outputs": [
    {
     "data": {
      "text/plain": [
       "age           int64\n",
       "sex          object\n",
       "bmi         float64\n",
       "children      int64\n",
       "smoker       object\n",
       "region       object\n",
       "charges     float64\n",
       "dtype: object"
      ]
     },
     "execution_count": 7,
     "metadata": {},
     "output_type": "execute_result"
    }
   ],
   "source": [
    "df.dtypes"
   ]
  },
  {
   "cell_type": "code",
   "execution_count": 8,
   "metadata": {},
   "outputs": [
    {
     "data": {
      "image/png": "[encoded data removed]",
      "text/plain": [
       "<Figure size 432x288 with 2 Axes>"
      ]
     },
     "metadata": {
      "needs_background": "light"
     },
     "output_type": "display_data"
    }
   ],
   "source": [
    "# Showing correlataion using a heatmap\n",
    "plt.figure\n",
    "cor = df.corr()\n",
    "sns.heatmap(cor, annot=True, cmap=plt.cm.Reds)\n",
    "plt.show()"
   ]
  },
  {
   "cell_type": "markdown",
   "metadata": {},
   "source": [
    "The target column is continous in nature, a regression approach is reqquired in conducting the predictive analysis"
   ]
  },
  {
   "cell_type": "code",
   "execution_count": 9,
   "metadata": {},
   "outputs": [
    {
     "data": {
      "text/plain": [
       "Series([], dtype: int64)"
      ]
     },
     "execution_count": 9,
     "metadata": {},
     "output_type": "execute_result"
    }
   ],
   "source": [
    "# Checking for Null values\n",
    "null_counts = df.isnull().sum()\n",
    "null_counts[null_counts > 0].sort_values(ascending=False)"
   ]
  },
  {
   "cell_type": "code",
   "execution_count": 10,
   "metadata": {},
   "outputs": [
    {
     "data": {
      "text/plain": [
       "1"
      ]
     },
     "execution_count": 10,
     "metadata": {},
     "output_type": "execute_result"
    }
   ],
   "source": [
    "# Checking for duplicates \n",
    "df_duplicates = df.duplicated().sum()\n",
    "df_duplicates"
   ]
  },
  {
   "cell_type": "code",
   "execution_count": 11,
   "metadata": {},
   "outputs": [
    {
     "data": {
      "text/html": [
       "<div>\n",
       "<style scoped>\n",
       "    .dataframe tbody tr th:only-of-type {\n",
       "        vertical-align: middle;\n",
       "    }\n",
       "\n",
       "    .dataframe tbody tr th {\n",
       "        vertical-align: top;\n",
       "    }\n",
       "\n",
       "    .dataframe thead th {\n",
       "        text-align: right;\n",
       "    }\n",
       "</style>\n",
       "<table border=\"1\" class=\"dataframe\">\n",
       "  <thead>\n",
       "    <tr style=\"text-align: right;\">\n",
       "      <th></th>\n",
       "      <th>age</th>\n",
       "      <th>sex</th>\n",
       "      <th>bmi</th>\n",
       "      <th>children</th>\n",
       "      <th>smoker</th>\n",
       "      <th>region</th>\n",
       "      <th>charges</th>\n",
       "    </tr>\n",
       "  </thead>\n",
       "  <tbody>\n",
       "    <tr>\n",
       "      <th>581</th>\n",
       "      <td>19</td>\n",
       "      <td>male</td>\n",
       "      <td>30.59</td>\n",
       "      <td>0</td>\n",
       "      <td>no</td>\n",
       "      <td>northwest</td>\n",
       "      <td>1639.5631</td>\n",
       "    </tr>\n",
       "  </tbody>\n",
       "</table>\n",
       "</div>"
      ],
      "text/plain": [
       "     age   sex    bmi  children smoker     region    charges\n",
       "581   19  male  30.59         0     no  northwest  1639.5631"
      ]
     },
     "execution_count": 11,
     "metadata": {},
     "output_type": "execute_result"
    }
   ],
   "source": [
    "# Checking for Duplicated row\n",
    "duplicate = df[df.duplicated()]\n",
    "duplicate"
   ]
  },
  {
   "cell_type": "code",
   "execution_count": 12,
   "metadata": {},
   "outputs": [],
   "source": [
    "# Dropping the duplicate column\n",
    "df.drop_duplicates(keep= False, inplace = True )"
   ]
  },
  {
   "cell_type": "code",
   "execution_count": 13,
   "metadata": {},
   "outputs": [
    {
     "data": {
      "text/html": [
       "<div>\n",
       "<style scoped>\n",
       "    .dataframe tbody tr th:only-of-type {\n",
       "        vertical-align: middle;\n",
       "    }\n",
       "\n",
       "    .dataframe tbody tr th {\n",
       "        vertical-align: top;\n",
       "    }\n",
       "\n",
       "    .dataframe thead th {\n",
       "        text-align: right;\n",
       "    }\n",
       "</style>\n",
       "<table border=\"1\" class=\"dataframe\">\n",
       "  <thead>\n",
       "    <tr style=\"text-align: right;\">\n",
       "      <th></th>\n",
       "      <th>age</th>\n",
       "      <th>sex</th>\n",
       "      <th>bmi</th>\n",
       "      <th>children</th>\n",
       "      <th>smoker</th>\n",
       "      <th>region</th>\n",
       "      <th>charges</th>\n",
       "    </tr>\n",
       "  </thead>\n",
       "  <tbody>\n",
       "  </tbody>\n",
       "</table>\n",
       "</div>"
      ],
      "text/plain": [
       "Empty DataFrame\n",
       "Columns: [age, sex, bmi, children, smoker, region, charges]\n",
       "Index: []"
      ]
     },
     "execution_count": 13,
     "metadata": {},
     "output_type": "execute_result"
    }
   ],
   "source": [
    "#Checking the duplicates \n",
    "duplicate = df[df.duplicated()]\n",
    "duplicate"
   ]
  },
  {
   "cell_type": "code",
   "execution_count": 14,
   "metadata": {},
   "outputs": [
    {
     "data": {
      "text/plain": [
       "(1336, 7)"
      ]
     },
     "execution_count": 14,
     "metadata": {},
     "output_type": "execute_result"
    }
   ],
   "source": [
    "df.shape"
   ]
  },
  {
   "cell_type": "code",
   "execution_count": 15,
   "metadata": {},
   "outputs": [],
   "source": [
    "# making a copy of the Dataframe\n",
    "df_copy = df.copy()"
   ]
  },
  {
   "cell_type": "code",
   "execution_count": 16,
   "metadata": {},
   "outputs": [
    {
     "data": {
      "text/html": [
       "<div>\n",
       "<style scoped>\n",
       "    .dataframe tbody tr th:only-of-type {\n",
       "        vertical-align: middle;\n",
       "    }\n",
       "\n",
       "    .dataframe tbody tr th {\n",
       "        vertical-align: top;\n",
       "    }\n",
       "\n",
       "    .dataframe thead th {\n",
       "        text-align: right;\n",
       "    }\n",
       "</style>\n",
       "<table border=\"1\" class=\"dataframe\">\n",
       "  <thead>\n",
       "    <tr style=\"text-align: right;\">\n",
       "      <th></th>\n",
       "      <th>age</th>\n",
       "      <th>sex</th>\n",
       "      <th>bmi</th>\n",
       "      <th>children</th>\n",
       "      <th>smoker</th>\n",
       "      <th>region</th>\n",
       "      <th>charges</th>\n",
       "    </tr>\n",
       "  </thead>\n",
       "  <tbody>\n",
       "    <tr>\n",
       "      <th>0</th>\n",
       "      <td>19</td>\n",
       "      <td>female</td>\n",
       "      <td>27.900</td>\n",
       "      <td>0</td>\n",
       "      <td>yes</td>\n",
       "      <td>southwest</td>\n",
       "      <td>16884.92400</td>\n",
       "    </tr>\n",
       "    <tr>\n",
       "      <th>1</th>\n",
       "      <td>18</td>\n",
       "      <td>male</td>\n",
       "      <td>33.770</td>\n",
       "      <td>1</td>\n",
       "      <td>no</td>\n",
       "      <td>southeast</td>\n",
       "      <td>1725.55230</td>\n",
       "    </tr>\n",
       "    <tr>\n",
       "      <th>2</th>\n",
       "      <td>28</td>\n",
       "      <td>male</td>\n",
       "      <td>33.000</td>\n",
       "      <td>3</td>\n",
       "      <td>no</td>\n",
       "      <td>southeast</td>\n",
       "      <td>4449.46200</td>\n",
       "    </tr>\n",
       "    <tr>\n",
       "      <th>3</th>\n",
       "      <td>33</td>\n",
       "      <td>male</td>\n",
       "      <td>22.705</td>\n",
       "      <td>0</td>\n",
       "      <td>no</td>\n",
       "      <td>northwest</td>\n",
       "      <td>21984.47061</td>\n",
       "    </tr>\n",
       "    <tr>\n",
       "      <th>4</th>\n",
       "      <td>32</td>\n",
       "      <td>male</td>\n",
       "      <td>28.880</td>\n",
       "      <td>0</td>\n",
       "      <td>no</td>\n",
       "      <td>northwest</td>\n",
       "      <td>3866.85520</td>\n",
       "    </tr>\n",
       "  </tbody>\n",
       "</table>\n",
       "</div>"
      ],
      "text/plain": [
       "   age     sex     bmi  children smoker     region      charges\n",
       "0   19  female  27.900         0    yes  southwest  16884.92400\n",
       "1   18    male  33.770         1     no  southeast   1725.55230\n",
       "2   28    male  33.000         3     no  southeast   4449.46200\n",
       "3   33    male  22.705         0     no  northwest  21984.47061\n",
       "4   32    male  28.880         0     no  northwest   3866.85520"
      ]
     },
     "execution_count": 16,
     "metadata": {},
     "output_type": "execute_result"
    }
   ],
   "source": [
    "df_copy.head()"
   ]
  },
  {
   "cell_type": "code",
   "execution_count": 17,
   "metadata": {},
   "outputs": [
    {
     "data": {
      "text/plain": [
       "<Figure size 1080x432 with 0 Axes>"
      ]
     },
     "metadata": {},
     "output_type": "display_data"
    },
    {
     "data": {
      "image/png": "[encoded data removed]",
      "text/plain": [
       "<Figure size 360x360 with 1 Axes>"
      ]
     },
     "metadata": {
      "needs_background": "light"
     },
     "output_type": "display_data"
    }
   ],
   "source": [
    "# Q3\n",
    "plt.figure(figsize=(15, 6))\n",
    "sns.displot(x=df_copy['age'], kde=False, rug=True, bins=100)\n",
    "plt.show()"
   ]
  },
  {
   "cell_type": "markdown",
   "metadata": {},
   "source": [
    "The majority of the individuals captured are young below 20 years and a balance of individuals between the ages 30 to 70 years."
   ]
  },
  {
   "cell_type": "code",
   "execution_count": 18,
   "metadata": {},
   "outputs": [],
   "source": [
    "# Set & Feature Scaling\n",
    "#X = df_copy.iloc[:,:-1].values\n",
    "#y = df_copy.iloc[:,6].values"
   ]
  },
  {
   "cell_type": "code",
   "execution_count": 19,
   "metadata": {},
   "outputs": [],
   "source": [
    "# Using LabelEncoder to convert sex to numerical data\n",
    "#from sklearn.preprocessing import LabelEncoder\n",
    "\n",
    "#lb_encode = LabelEncoder()\n",
    "#X[:,1] = lb_encode.fit_transform(X[:,1])"
   ]
  },
  {
   "cell_type": "code",
   "execution_count": null,
   "metadata": {},
   "outputs": [],
   "source": []
  },
  {
   "cell_type": "code",
   "execution_count": 20,
   "metadata": {},
   "outputs": [],
   "source": [
    "# Converting Smoker to numerical data \n",
    "#from sklearn.preprocessing import LabelEncoder\n",
    "\n",
    "#lb_encode = LabelEncoder()\n",
    "#X[:,4] = lb_encode.fit_transform(X[:,4])\n"
   ]
  },
  {
   "cell_type": "code",
   "execution_count": 21,
   "metadata": {},
   "outputs": [],
   "source": [
    "# Encoding the region column\n",
    "#from sklearn.preprocessing import LabelEncoder\n",
    "\n",
    "#lb_encode = LabelEncoder()\n",
    "#X[:,5] = lb_encode.fit_transform(X[:,5])"
   ]
  },
  {
   "cell_type": "code",
   "execution_count": 22,
   "metadata": {},
   "outputs": [],
   "source": [
    "# Setting up \n",
    "#from sklearn.model_selection import train_test_split\n",
    "#X_train, X_test, y_train, y_test = train_test_split(X, y, test_size = 0.2, random_state=0)"
   ]
  },
  {
   "cell_type": "code",
   "execution_count": 23,
   "metadata": {},
   "outputs": [
    {
     "data": {
      "text/html": [
       "<div>\n",
       "<style scoped>\n",
       "    .dataframe tbody tr th:only-of-type {\n",
       "        vertical-align: middle;\n",
       "    }\n",
       "\n",
       "    .dataframe tbody tr th {\n",
       "        vertical-align: top;\n",
       "    }\n",
       "\n",
       "    .dataframe thead th {\n",
       "        text-align: right;\n",
       "    }\n",
       "</style>\n",
       "<table border=\"1\" class=\"dataframe\">\n",
       "  <thead>\n",
       "    <tr style=\"text-align: right;\">\n",
       "      <th></th>\n",
       "      <th>age</th>\n",
       "      <th>sex</th>\n",
       "      <th>bmi</th>\n",
       "      <th>children</th>\n",
       "      <th>smoker</th>\n",
       "      <th>region</th>\n",
       "      <th>charges</th>\n",
       "    </tr>\n",
       "  </thead>\n",
       "  <tbody>\n",
       "    <tr>\n",
       "      <th>0</th>\n",
       "      <td>19</td>\n",
       "      <td>female</td>\n",
       "      <td>27.900</td>\n",
       "      <td>0</td>\n",
       "      <td>yes</td>\n",
       "      <td>southwest</td>\n",
       "      <td>16884.92400</td>\n",
       "    </tr>\n",
       "    <tr>\n",
       "      <th>1</th>\n",
       "      <td>18</td>\n",
       "      <td>male</td>\n",
       "      <td>33.770</td>\n",
       "      <td>1</td>\n",
       "      <td>no</td>\n",
       "      <td>southeast</td>\n",
       "      <td>1725.55230</td>\n",
       "    </tr>\n",
       "    <tr>\n",
       "      <th>2</th>\n",
       "      <td>28</td>\n",
       "      <td>male</td>\n",
       "      <td>33.000</td>\n",
       "      <td>3</td>\n",
       "      <td>no</td>\n",
       "      <td>southeast</td>\n",
       "      <td>4449.46200</td>\n",
       "    </tr>\n",
       "    <tr>\n",
       "      <th>3</th>\n",
       "      <td>33</td>\n",
       "      <td>male</td>\n",
       "      <td>22.705</td>\n",
       "      <td>0</td>\n",
       "      <td>no</td>\n",
       "      <td>northwest</td>\n",
       "      <td>21984.47061</td>\n",
       "    </tr>\n",
       "    <tr>\n",
       "      <th>4</th>\n",
       "      <td>32</td>\n",
       "      <td>male</td>\n",
       "      <td>28.880</td>\n",
       "      <td>0</td>\n",
       "      <td>no</td>\n",
       "      <td>northwest</td>\n",
       "      <td>3866.85520</td>\n",
       "    </tr>\n",
       "  </tbody>\n",
       "</table>\n",
       "</div>"
      ],
      "text/plain": [
       "   age     sex     bmi  children smoker     region      charges\n",
       "0   19  female  27.900         0    yes  southwest  16884.92400\n",
       "1   18    male  33.770         1     no  southeast   1725.55230\n",
       "2   28    male  33.000         3     no  southeast   4449.46200\n",
       "3   33    male  22.705         0     no  northwest  21984.47061\n",
       "4   32    male  28.880         0     no  northwest   3866.85520"
      ]
     },
     "execution_count": 23,
     "metadata": {},
     "output_type": "execute_result"
    }
   ],
   "source": [
    "df_copy.head()"
   ]
  },
  {
   "cell_type": "code",
   "execution_count": 24,
   "metadata": {},
   "outputs": [
    {
     "data": {
      "text/plain": [
       "['age', 'bmi']"
      ]
     },
     "execution_count": 24,
     "metadata": {},
     "output_type": "execute_result"
    }
   ],
   "source": [
    "# Q4 Isolating all continous and discrete columns \n",
    "numerical_continous = []\n",
    "for column in df_copy.columns:\n",
    "    if df_copy[column].dtypes != 'object':\n",
    "        if df_copy[column].nunique()> 10:\n",
    "            numerical_continous.append(column)\n",
    "numerical_continous.remove('charges')\n",
    "numerical_continous"
   ]
  },
  {
   "cell_type": "markdown",
   "metadata": {},
   "source": [
    "Age and Bmi columns are the identified numerical continous "
   ]
  },
  {
   "cell_type": "code",
   "execution_count": 25,
   "metadata": {},
   "outputs": [
    {
     "data": {
      "text/plain": [
       "['children']"
      ]
     },
     "execution_count": 25,
     "metadata": {},
     "output_type": "execute_result"
    }
   ],
   "source": [
    "# Numerical Discrete \n",
    "numerical_discrete = []\n",
    "for column in df_copy.columns:\n",
    "    if df_copy[column].dtypes != 'object':\n",
    "        if df_copy[column].nunique() < 10:\n",
    "            numerical_discrete.append(column)\n",
    "\n",
    "numerical_discrete"
   ]
  },
  {
   "cell_type": "markdown",
   "metadata": {},
   "source": [
    "Children columns identified as the numerical discrete "
   ]
  },
  {
   "cell_type": "code",
   "execution_count": 26,
   "metadata": {},
   "outputs": [],
   "source": [
    "# Q5 identiying presence of any outliers in the numerical continous columns\n",
    "# df_data = pd.DataFrame(numerical_continous)"
   ]
  },
  {
   "cell_type": "code",
   "execution_count": 27,
   "metadata": {},
   "outputs": [],
   "source": [
    "# df_data.boxplot()"
   ]
  },
  {
   "cell_type": "code",
   "execution_count": 28,
   "metadata": {},
   "outputs": [
    {
     "data": {
      "text/plain": [
       "<AxesSubplot:>"
      ]
     },
     "execution_count": 28,
     "metadata": {},
     "output_type": "execute_result"
    },
    {
     "data": {
      "image/png": "[encoded data removed]",
      "text/plain": [
       "<Figure size 864x576 with 1 Axes>"
      ]
     },
     "metadata": {
      "needs_background": "light"
     },
     "output_type": "display_data"
    }
   ],
   "source": [
    "df_copy[numerical_continous].plot(kind = 'box', figsize = (12,8))"
   ]
  },
  {
   "cell_type": "code",
   "execution_count": 29,
   "metadata": {},
   "outputs": [],
   "source": [
    "#from scipy import stats\n",
    "# zscore = np.abs(stats.zscore(df_data))\n",
    "# zscore"
   ]
  },
  {
   "cell_type": "code",
   "execution_count": 30,
   "metadata": {},
   "outputs": [
    {
     "data": {
      "text/plain": [
       "<AxesSubplot:>"
      ]
     },
     "execution_count": 30,
     "metadata": {},
     "output_type": "execute_result"
    },
    {
     "data": {
      "image/png": "[encoded data removed]",
      "text/plain": [
       "<Figure size 864x576 with 1 Axes>"
      ]
     },
     "metadata": {
      "needs_background": "light"
     },
     "output_type": "display_data"
    }
   ],
   "source": [
    "threshold = 0.3703\n",
    "zscore = np.abs(stats.zscore(df_copy[['bmi']]))\n",
    "df_copy[(zscore > threshold).all(axis=1)][numerical_continous].plot(kind = 'box', figsize =(12,8))"
   ]
  },
  {
   "cell_type": "code",
   "execution_count": 31,
   "metadata": {},
   "outputs": [],
   "source": [
    "# Implementing the changes \n",
    "df_copy = df_copy[(zscore > threshold).all(axis = 1)]"
   ]
  },
  {
   "cell_type": "code",
   "execution_count": 32,
   "metadata": {},
   "outputs": [
    {
     "data": {
      "text/plain": [
       "(1336, 7)"
      ]
     },
     "execution_count": 32,
     "metadata": {},
     "output_type": "execute_result"
    }
   ],
   "source": [
    "df.shape"
   ]
  },
  {
   "cell_type": "code",
   "execution_count": 33,
   "metadata": {},
   "outputs": [
    {
     "data": {
      "text/plain": [
       "(971, 7)"
      ]
     },
     "execution_count": 33,
     "metadata": {},
     "output_type": "execute_result"
    }
   ],
   "source": [
    "df_copy.shape"
   ]
  },
  {
   "cell_type": "code",
   "execution_count": null,
   "metadata": {},
   "outputs": [],
   "source": []
  },
  {
   "cell_type": "code",
   "execution_count": null,
   "metadata": {},
   "outputs": [],
   "source": []
  },
  {
   "cell_type": "code",
   "execution_count": 34,
   "metadata": {},
   "outputs": [
    {
     "data": {
      "text/plain": [
       "['sex', 'smoker', 'region']"
      ]
     },
     "execution_count": 34,
     "metadata": {},
     "output_type": "execute_result"
    }
   ],
   "source": [
    "# Q7. Isolating all categorical columns \n",
    "categorical = []\n",
    "for column in df_copy.columns:\n",
    "    if df_copy[column].dtypes == 'object':\n",
    "        categorical.append(column)\n",
    "categorical"
   ]
  },
  {
   "cell_type": "markdown",
   "metadata": {},
   "source": [
    "sex, smoker and region identified as categorical columns"
   ]
  },
  {
   "cell_type": "code",
   "execution_count": 35,
   "metadata": {
    "scrolled": true
   },
   "outputs": [
    {
     "data": {
      "image/png": "[encoded data removed]",
      "text/plain": [
       "<Figure size 432x288 with 1 Axes>"
      ]
     },
     "metadata": {
      "needs_background": "light"
     },
     "output_type": "display_data"
    },
    {
     "data": {
      "image/png": "[encoded data removed]",
      "text/plain": [
       "<Figure size 432x288 with 1 Axes>"
      ]
     },
     "metadata": {
      "needs_background": "light"
     },
     "output_type": "display_data"
    },
    {
     "data": {
      "image/png": "[encoded data removed]",
      "text/plain": [
       "<Figure size 432x288 with 1 Axes>"
      ]
     },
     "metadata": {
      "needs_background": "light"
     },
     "output_type": "display_data"
    },
    {
     "data": {
      "image/png": "[encoded data removed]",
      "text/plain": [
       "<Figure size 432x288 with 1 Axes>"
      ]
     },
     "metadata": {
      "needs_background": "light"
     },
     "output_type": "display_data"
    }
   ],
   "source": [
    "# Visually identifying outliers in the discrete and categorical features\n",
    "for column in numerical_discrete + categorical:\n",
    "    (df_copy[column].value_counts()/df_copy[column].shape[0]).plot(kind='bar')\n",
    "    plt.title(column)\n",
    "    plt.show()"
   ]
  },
  {
   "cell_type": "code",
   "execution_count": 36,
   "metadata": {},
   "outputs": [],
   "source": [
    "# def rare_imputation(variable):\n",
    "    # find frequent labels / discrete numbers\n",
    "#    temp = X_train.groupby([variable])[variable].count()/np.float(len(X_train))\n",
    "#    frequent_cat = [x for x in temp.loc[temp>0.03].index.values]\n",
    "    \n",
    "#    X_train[variable] = np.where(X_train[variable].isin(frequent_cat), X_train[variable], 'Rare')\n",
    "#    X_test[variable] = np.where(X_test[variable].isin(frequent_cat), X_test[variable], 'Rare')\n",
    "#    test[variable] = np.where(test[variable].isin(frequent_cat), test[variable], 'Rare')"
   ]
  },
  {
   "cell_type": "code",
   "execution_count": 37,
   "metadata": {},
   "outputs": [],
   "source": [
    "df_copy['children'] = df_copy['children'].replace([3,4,5], 'Rare')"
   ]
  },
  {
   "cell_type": "code",
   "execution_count": 38,
   "metadata": {},
   "outputs": [],
   "source": [
    "# df_copy2 = df.copy()"
   ]
  },
  {
   "cell_type": "code",
   "execution_count": 39,
   "metadata": {},
   "outputs": [],
   "source": [
    "#Q 9 Encode the discrete and categorical features with one of the measures of central tendency\n",
    "#def encode_cat_vars(var,target):\n",
    "#    ordered_labels = df_copy.groupby([var])[target].mean().to_dict()\n",
    "#    df_copy[var] = df_copy[var].map(ordered_labels)\n",
    "    \n",
    "#for var in categorical:\n",
    "#    encode_cat_vars(var, 'charges')\n",
    "#for var in numerical_discrete:\n",
    "#    encode_cat_vars(var, 'charges')\n",
    "    \n",
    "# df_copy.head()"
   ]
  },
  {
   "cell_type": "code",
   "execution_count": 40,
   "metadata": {},
   "outputs": [],
   "source": [
    "#Q 9 Encode the discrete and categorical features with one of the measures of central tendency\n",
    "encoded_features = {}\n",
    "for column in numerical_discrete + categorical:\n",
    "    encoded_features[column] = df_copy.groupby([column])['charges'].median().to_dict()\n",
    "    df_copy[column] = df_copy[column].map(encoded_features[column])"
   ]
  },
  {
   "cell_type": "code",
   "execution_count": 41,
   "metadata": {},
   "outputs": [
    {
     "data": {
      "text/plain": [
       "{'children': {0: 9644.2525, 1: 8539.671, 2: 9954.0544, 'Rare': 10977.2063},\n",
       " 'sex': {'female': 9639.395250000001, 'male': 9391.346},\n",
       " 'smoker': {'no': 7345.4053, 'yes': 29330.98315},\n",
       " 'region': {'northeast': 9661.16525,\n",
       "  'northwest': 9301.89355,\n",
       "  'southeast': 9768.88825,\n",
       "  'southwest': 9328.071499999998}}"
      ]
     },
     "execution_count": 41,
     "metadata": {},
     "output_type": "execute_result"
    }
   ],
   "source": [
    "encoded_features"
   ]
  },
  {
   "cell_type": "code",
   "execution_count": 42,
   "metadata": {},
   "outputs": [],
   "source": [
    "# Q10.Separating the features from the target appropiately.  \n",
    "X = df_copy.drop('charges', axis = 1)\n",
    "y = df_copy['charges']"
   ]
  },
  {
   "cell_type": "code",
   "execution_count": 43,
   "metadata": {},
   "outputs": [
    {
     "name": "stdout",
     "output_type": "stream",
     "text": [
      "age          True\n",
      "sex          True\n",
      "bmi          True\n",
      "children    False\n",
      "smoker       True\n",
      "region       True\n",
      "dtype: bool\n"
     ]
    }
   ],
   "source": [
    "from sklearn.linear_model import LinearRegression\n",
    "from sklearn.feature_selection import RFE\n",
    "\n",
    "model = LinearRegression()\n",
    "rfe = RFE(model, 5)\n",
    "X_rfe = rfe.fit_transform(X, y)\n",
    "model.fit(X_rfe, y)\n",
    "print(pd.Series(rfe.support_, index = X.columns))"
   ]
  },
  {
   "cell_type": "code",
   "execution_count": 44,
   "metadata": {},
   "outputs": [
    {
     "data": {
      "text/html": [
       "<div>\n",
       "<style scoped>\n",
       "    .dataframe tbody tr th:only-of-type {\n",
       "        vertical-align: middle;\n",
       "    }\n",
       "\n",
       "    .dataframe tbody tr th {\n",
       "        vertical-align: top;\n",
       "    }\n",
       "\n",
       "    .dataframe thead th {\n",
       "        text-align: right;\n",
       "    }\n",
       "</style>\n",
       "<table border=\"1\" class=\"dataframe\">\n",
       "  <thead>\n",
       "    <tr style=\"text-align: right;\">\n",
       "      <th></th>\n",
       "      <th>age</th>\n",
       "      <th>sex</th>\n",
       "      <th>bmi</th>\n",
       "      <th>children</th>\n",
       "      <th>smoker</th>\n",
       "      <th>region</th>\n",
       "    </tr>\n",
       "  </thead>\n",
       "  <tbody>\n",
       "    <tr>\n",
       "      <th>0</th>\n",
       "      <td>19</td>\n",
       "      <td>9639.39525</td>\n",
       "      <td>27.900</td>\n",
       "      <td>9644.2525</td>\n",
       "      <td>29330.98315</td>\n",
       "      <td>9328.07150</td>\n",
       "    </tr>\n",
       "    <tr>\n",
       "      <th>1</th>\n",
       "      <td>18</td>\n",
       "      <td>9391.34600</td>\n",
       "      <td>33.770</td>\n",
       "      <td>8539.6710</td>\n",
       "      <td>7345.40530</td>\n",
       "      <td>9768.88825</td>\n",
       "    </tr>\n",
       "    <tr>\n",
       "      <th>2</th>\n",
       "      <td>28</td>\n",
       "      <td>9391.34600</td>\n",
       "      <td>33.000</td>\n",
       "      <td>10977.2063</td>\n",
       "      <td>7345.40530</td>\n",
       "      <td>9768.88825</td>\n",
       "    </tr>\n",
       "    <tr>\n",
       "      <th>3</th>\n",
       "      <td>33</td>\n",
       "      <td>9391.34600</td>\n",
       "      <td>22.705</td>\n",
       "      <td>9644.2525</td>\n",
       "      <td>7345.40530</td>\n",
       "      <td>9301.89355</td>\n",
       "    </tr>\n",
       "    <tr>\n",
       "      <th>5</th>\n",
       "      <td>31</td>\n",
       "      <td>9639.39525</td>\n",
       "      <td>25.740</td>\n",
       "      <td>9644.2525</td>\n",
       "      <td>7345.40530</td>\n",
       "      <td>9768.88825</td>\n",
       "    </tr>\n",
       "  </tbody>\n",
       "</table>\n",
       "</div>"
      ],
      "text/plain": [
       "   age         sex     bmi    children       smoker      region\n",
       "0   19  9639.39525  27.900   9644.2525  29330.98315  9328.07150\n",
       "1   18  9391.34600  33.770   8539.6710   7345.40530  9768.88825\n",
       "2   28  9391.34600  33.000  10977.2063   7345.40530  9768.88825\n",
       "3   33  9391.34600  22.705   9644.2525   7345.40530  9301.89355\n",
       "5   31  9639.39525  25.740   9644.2525   7345.40530  9768.88825"
      ]
     },
     "execution_count": 44,
     "metadata": {},
     "output_type": "execute_result"
    }
   ],
   "source": [
    "X.head()"
   ]
  },
  {
   "cell_type": "code",
   "execution_count": null,
   "metadata": {},
   "outputs": [],
   "source": []
  },
  {
   "cell_type": "code",
   "execution_count": null,
   "metadata": {},
   "outputs": [],
   "source": []
  },
  {
   "cell_type": "markdown",
   "metadata": {},
   "source": [
    "# Continuation with Assignment 8"
   ]
  },
  {
   "cell_type": "code",
   "execution_count": 45,
   "metadata": {},
   "outputs": [
    {
     "data": {
      "text/html": [
       "<div>\n",
       "<style scoped>\n",
       "    .dataframe tbody tr th:only-of-type {\n",
       "        vertical-align: middle;\n",
       "    }\n",
       "\n",
       "    .dataframe tbody tr th {\n",
       "        vertical-align: top;\n",
       "    }\n",
       "\n",
       "    .dataframe thead th {\n",
       "        text-align: right;\n",
       "    }\n",
       "</style>\n",
       "<table border=\"1\" class=\"dataframe\">\n",
       "  <thead>\n",
       "    <tr style=\"text-align: right;\">\n",
       "      <th></th>\n",
       "      <th>age</th>\n",
       "      <th>sex</th>\n",
       "      <th>bmi</th>\n",
       "      <th>smoker</th>\n",
       "      <th>region</th>\n",
       "      <th>charges</th>\n",
       "    </tr>\n",
       "  </thead>\n",
       "  <tbody>\n",
       "    <tr>\n",
       "      <th>0</th>\n",
       "      <td>19</td>\n",
       "      <td>9639.39525</td>\n",
       "      <td>27.900</td>\n",
       "      <td>29330.98315</td>\n",
       "      <td>9328.07150</td>\n",
       "      <td>16884.92400</td>\n",
       "    </tr>\n",
       "    <tr>\n",
       "      <th>1</th>\n",
       "      <td>18</td>\n",
       "      <td>9391.34600</td>\n",
       "      <td>33.770</td>\n",
       "      <td>7345.40530</td>\n",
       "      <td>9768.88825</td>\n",
       "      <td>1725.55230</td>\n",
       "    </tr>\n",
       "    <tr>\n",
       "      <th>2</th>\n",
       "      <td>28</td>\n",
       "      <td>9391.34600</td>\n",
       "      <td>33.000</td>\n",
       "      <td>7345.40530</td>\n",
       "      <td>9768.88825</td>\n",
       "      <td>4449.46200</td>\n",
       "    </tr>\n",
       "    <tr>\n",
       "      <th>3</th>\n",
       "      <td>33</td>\n",
       "      <td>9391.34600</td>\n",
       "      <td>22.705</td>\n",
       "      <td>7345.40530</td>\n",
       "      <td>9301.89355</td>\n",
       "      <td>21984.47061</td>\n",
       "    </tr>\n",
       "    <tr>\n",
       "      <th>5</th>\n",
       "      <td>31</td>\n",
       "      <td>9639.39525</td>\n",
       "      <td>25.740</td>\n",
       "      <td>7345.40530</td>\n",
       "      <td>9768.88825</td>\n",
       "      <td>3756.62160</td>\n",
       "    </tr>\n",
       "  </tbody>\n",
       "</table>\n",
       "</div>"
      ],
      "text/plain": [
       "   age         sex     bmi       smoker      region      charges\n",
       "0   19  9639.39525  27.900  29330.98315  9328.07150  16884.92400\n",
       "1   18  9391.34600  33.770   7345.40530  9768.88825   1725.55230\n",
       "2   28  9391.34600  33.000   7345.40530  9768.88825   4449.46200\n",
       "3   33  9391.34600  22.705   7345.40530  9301.89355  21984.47061\n",
       "5   31  9639.39525  25.740   7345.40530  9768.88825   3756.62160"
      ]
     },
     "execution_count": 45,
     "metadata": {},
     "output_type": "execute_result"
    }
   ],
   "source": [
    "X = df_copy.drop('children', axis = 1)\n",
    "X.head()"
   ]
  },
  {
   "cell_type": "code",
   "execution_count": 63,
   "metadata": {},
   "outputs": [],
   "source": [
    "#Q1. converting the target labels to their respective log values\n",
    "from sklearn.datasets import make_regression\n",
    "from sklearn.model_selection import train_test_split\n",
    "from sklearn.compose import TransformedTargetRegressor\n",
    "X, y = make_regression(n_samples=10000, noise=100, random_state=0)\n",
    "y = np.expm1((y + abs(y.min())) / 200)\n",
    "y_trans = np.log1p(y)"
   ]
  },
  {
   "cell_type": "code",
   "execution_count": 64,
   "metadata": {},
   "outputs": [
    {
     "data": {
      "text/plain": [
       "array([ 82.47792632, 110.05584349,  39.00417088, ...,  71.4462268 ,\n",
       "       102.54598686,  18.13457429])"
      ]
     },
     "execution_count": 64,
     "metadata": {},
     "output_type": "execute_result"
    }
   ],
   "source": [
    "y"
   ]
  },
  {
   "cell_type": "markdown",
   "metadata": {},
   "source": [
    "The above is important because 1. it increases the correlation between the independent and dependet variables\n",
    "                               2. to provide a better linear regression fit. "
   ]
  },
  {
   "cell_type": "code",
   "execution_count": null,
   "metadata": {},
   "outputs": [],
   "source": [
    "#Q2 Setting the train and test sets, normalizing the features "
   ]
  },
  {
   "cell_type": "code",
   "execution_count": 65,
   "metadata": {},
   "outputs": [],
   "source": [
    "from sklearn.preprocessing import StandardScaler\n",
    "scaling = StandardScaler()"
   ]
  },
  {
   "cell_type": "code",
   "execution_count": 66,
   "metadata": {},
   "outputs": [
    {
     "data": {
      "text/plain": [
       "array([[ 1.90943264],\n",
       "       [-0.52371578],\n",
       "       [-0.52371578],\n",
       "       [-0.52371578],\n",
       "       [-0.52371578],\n",
       "       [-0.52371578],\n",
       "       [-0.52371578],\n",
       "       [-0.52371578],\n",
       "       [-0.52371578],\n",
       "       [ 1.90943264],\n",
       "       [-0.52371578],\n",
       "       [-0.52371578],\n",
       "       [ 1.90943264],\n",
       "       [-0.52371578],\n",
       "       [-0.52371578],\n",
       "       [-0.52371578],\n",
       "       [ 1.90943264],\n",
       "       [-0.52371578],\n",
       "       [-0.52371578],\n",
       "       [-0.52371578],\n",
       "       [-0.52371578],\n",
       "       [-0.52371578],\n",
       "       [-0.52371578],\n",
       "       [ 1.90943264],\n",
       "       [ 1.90943264],\n",
       "       [-0.52371578],\n",
       "       [-0.52371578],\n",
       "       [ 1.90943264],\n",
       "       [-0.52371578],\n",
       "       [-0.52371578],\n",
       "       [-0.52371578],\n",
       "       [ 1.90943264],\n",
       "       [ 1.90943264],\n",
       "       [-0.52371578],\n",
       "       [-0.52371578],\n",
       "       [-0.52371578],\n",
       "       [-0.52371578],\n",
       "       [-0.52371578],\n",
       "       [-0.52371578],\n",
       "       [-0.52371578],\n",
       "       [-0.52371578],\n",
       "       [ 1.90943264],\n",
       "       [-0.52371578],\n",
       "       [-0.52371578],\n",
       "       [ 1.90943264],\n",
       "       [ 1.90943264],\n",
       "       [ 1.90943264],\n",
       "       [ 1.90943264],\n",
       "       [-0.52371578],\n",
       "       [-0.52371578],\n",
       "       [-0.52371578],\n",
       "       [-0.52371578],\n",
       "       [-0.52371578],\n",
       "       [ 1.90943264],\n",
       "       [-0.52371578],\n",
       "       [-0.52371578],\n",
       "       [-0.52371578],\n",
       "       [ 1.90943264],\n",
       "       [ 1.90943264],\n",
       "       [-0.52371578],\n",
       "       [-0.52371578],\n",
       "       [-0.52371578],\n",
       "       [-0.52371578],\n",
       "       [-0.52371578],\n",
       "       [-0.52371578],\n",
       "       [-0.52371578],\n",
       "       [-0.52371578],\n",
       "       [ 1.90943264],\n",
       "       [-0.52371578],\n",
       "       [ 1.90943264],\n",
       "       [ 1.90943264],\n",
       "       [-0.52371578],\n",
       "       [-0.52371578],\n",
       "       [-0.52371578],\n",
       "       [-0.52371578],\n",
       "       [-0.52371578],\n",
       "       [-0.52371578],\n",
       "       [-0.52371578],\n",
       "       [-0.52371578],\n",
       "       [ 1.90943264],\n",
       "       [ 1.90943264],\n",
       "       [-0.52371578],\n",
       "       [-0.52371578],\n",
       "       [ 1.90943264],\n",
       "       [-0.52371578],\n",
       "       [-0.52371578],\n",
       "       [ 1.90943264],\n",
       "       [-0.52371578],\n",
       "       [-0.52371578],\n",
       "       [-0.52371578],\n",
       "       [ 1.90943264],\n",
       "       [-0.52371578],\n",
       "       [-0.52371578],\n",
       "       [-0.52371578],\n",
       "       [-0.52371578],\n",
       "       [-0.52371578],\n",
       "       [ 1.90943264],\n",
       "       [-0.52371578],\n",
       "       [ 1.90943264],\n",
       "       [-0.52371578],\n",
       "       [-0.52371578],\n",
       "       [-0.52371578],\n",
       "       [-0.52371578],\n",
       "       [-0.52371578],\n",
       "       [-0.52371578],\n",
       "       [-0.52371578],\n",
       "       [-0.52371578],\n",
       "       [-0.52371578],\n",
       "       [-0.52371578],\n",
       "       [ 1.90943264],\n",
       "       [-0.52371578],\n",
       "       [-0.52371578],\n",
       "       [-0.52371578],\n",
       "       [-0.52371578],\n",
       "       [-0.52371578],\n",
       "       [-0.52371578],\n",
       "       [ 1.90943264],\n",
       "       [-0.52371578],\n",
       "       [-0.52371578],\n",
       "       [ 1.90943264],\n",
       "       [ 1.90943264],\n",
       "       [ 1.90943264],\n",
       "       [-0.52371578],\n",
       "       [ 1.90943264],\n",
       "       [ 1.90943264],\n",
       "       [-0.52371578],\n",
       "       [-0.52371578],\n",
       "       [-0.52371578],\n",
       "       [-0.52371578],\n",
       "       [-0.52371578],\n",
       "       [-0.52371578],\n",
       "       [-0.52371578],\n",
       "       [-0.52371578],\n",
       "       [-0.52371578],\n",
       "       [ 1.90943264],\n",
       "       [-0.52371578],\n",
       "       [-0.52371578],\n",
       "       [-0.52371578],\n",
       "       [-0.52371578],\n",
       "       [-0.52371578],\n",
       "       [ 1.90943264],\n",
       "       [-0.52371578],\n",
       "       [-0.52371578],\n",
       "       [-0.52371578],\n",
       "       [-0.52371578],\n",
       "       [-0.52371578],\n",
       "       [-0.52371578],\n",
       "       [-0.52371578],\n",
       "       [ 1.90943264],\n",
       "       [-0.52371578],\n",
       "       [-0.52371578],\n",
       "       [ 1.90943264],\n",
       "       [-0.52371578],\n",
       "       [-0.52371578],\n",
       "       [-0.52371578],\n",
       "       [-0.52371578],\n",
       "       [-0.52371578],\n",
       "       [-0.52371578],\n",
       "       [-0.52371578],\n",
       "       [-0.52371578],\n",
       "       [-0.52371578],\n",
       "       [ 1.90943264],\n",
       "       [ 1.90943264],\n",
       "       [-0.52371578],\n",
       "       [-0.52371578],\n",
       "       [-0.52371578],\n",
       "       [-0.52371578],\n",
       "       [-0.52371578],\n",
       "       [-0.52371578],\n",
       "       [-0.52371578],\n",
       "       [-0.52371578],\n",
       "       [-0.52371578],\n",
       "       [ 1.90943264],\n",
       "       [-0.52371578],\n",
       "       [-0.52371578],\n",
       "       [-0.52371578],\n",
       "       [ 1.90943264],\n",
       "       [-0.52371578],\n",
       "       [-0.52371578],\n",
       "       [-0.52371578],\n",
       "       [ 1.90943264],\n",
       "       [-0.52371578],\n",
       "       [-0.52371578],\n",
       "       [-0.52371578],\n",
       "       [ 1.90943264],\n",
       "       [ 1.90943264],\n",
       "       [-0.52371578],\n",
       "       [ 1.90943264],\n",
       "       [-0.52371578],\n",
       "       [-0.52371578],\n",
       "       [-0.52371578],\n",
       "       [ 1.90943264],\n",
       "       [ 1.90943264],\n",
       "       [ 1.90943264],\n",
       "       [-0.52371578],\n",
       "       [ 1.90943264],\n",
       "       [ 1.90943264],\n",
       "       [-0.52371578],\n",
       "       [ 1.90943264],\n",
       "       [-0.52371578],\n",
       "       [-0.52371578],\n",
       "       [-0.52371578],\n",
       "       [-0.52371578],\n",
       "       [-0.52371578],\n",
       "       [-0.52371578],\n",
       "       [-0.52371578],\n",
       "       [ 1.90943264],\n",
       "       [ 1.90943264],\n",
       "       [-0.52371578],\n",
       "       [-0.52371578],\n",
       "       [-0.52371578],\n",
       "       [-0.52371578],\n",
       "       [ 1.90943264],\n",
       "       [-0.52371578],\n",
       "       [-0.52371578],\n",
       "       [ 1.90943264],\n",
       "       [-0.52371578],\n",
       "       [-0.52371578],\n",
       "       [ 1.90943264],\n",
       "       [ 1.90943264],\n",
       "       [ 1.90943264],\n",
       "       [-0.52371578],\n",
       "       [ 1.90943264],\n",
       "       [-0.52371578],\n",
       "       [-0.52371578],\n",
       "       [-0.52371578],\n",
       "       [-0.52371578],\n",
       "       [-0.52371578],\n",
       "       [-0.52371578],\n",
       "       [-0.52371578],\n",
       "       [-0.52371578],\n",
       "       [-0.52371578],\n",
       "       [-0.52371578],\n",
       "       [ 1.90943264],\n",
       "       [-0.52371578],\n",
       "       [-0.52371578],\n",
       "       [-0.52371578],\n",
       "       [-0.52371578],\n",
       "       [-0.52371578],\n",
       "       [-0.52371578],\n",
       "       [-0.52371578],\n",
       "       [-0.52371578],\n",
       "       [-0.52371578],\n",
       "       [ 1.90943264],\n",
       "       [ 1.90943264],\n",
       "       [-0.52371578],\n",
       "       [ 1.90943264],\n",
       "       [ 1.90943264],\n",
       "       [-0.52371578],\n",
       "       [-0.52371578],\n",
       "       [-0.52371578],\n",
       "       [-0.52371578],\n",
       "       [-0.52371578],\n",
       "       [-0.52371578],\n",
       "       [-0.52371578],\n",
       "       [-0.52371578],\n",
       "       [-0.52371578],\n",
       "       [-0.52371578],\n",
       "       [-0.52371578],\n",
       "       [-0.52371578],\n",
       "       [-0.52371578],\n",
       "       [-0.52371578],\n",
       "       [-0.52371578],\n",
       "       [-0.52371578],\n",
       "       [-0.52371578],\n",
       "       [-0.52371578],\n",
       "       [-0.52371578],\n",
       "       [-0.52371578],\n",
       "       [-0.52371578],\n",
       "       [ 1.90943264],\n",
       "       [-0.52371578],\n",
       "       [-0.52371578],\n",
       "       [-0.52371578],\n",
       "       [-0.52371578],\n",
       "       [-0.52371578],\n",
       "       [-0.52371578],\n",
       "       [-0.52371578],\n",
       "       [ 1.90943264],\n",
       "       [ 1.90943264],\n",
       "       [ 1.90943264],\n",
       "       [ 1.90943264],\n",
       "       [-0.52371578],\n",
       "       [-0.52371578],\n",
       "       [-0.52371578],\n",
       "       [-0.52371578],\n",
       "       [-0.52371578],\n",
       "       [-0.52371578],\n",
       "       [-0.52371578],\n",
       "       [-0.52371578],\n",
       "       [-0.52371578],\n",
       "       [-0.52371578],\n",
       "       [-0.52371578],\n",
       "       [-0.52371578],\n",
       "       [-0.52371578],\n",
       "       [-0.52371578],\n",
       "       [-0.52371578],\n",
       "       [-0.52371578],\n",
       "       [-0.52371578],\n",
       "       [-0.52371578],\n",
       "       [-0.52371578],\n",
       "       [-0.52371578],\n",
       "       [-0.52371578],\n",
       "       [-0.52371578],\n",
       "       [ 1.90943264],\n",
       "       [ 1.90943264],\n",
       "       [-0.52371578],\n",
       "       [-0.52371578],\n",
       "       [-0.52371578],\n",
       "       [-0.52371578],\n",
       "       [ 1.90943264],\n",
       "       [-0.52371578],\n",
       "       [ 1.90943264],\n",
       "       [ 1.90943264],\n",
       "       [ 1.90943264],\n",
       "       [-0.52371578],\n",
       "       [-0.52371578],\n",
       "       [-0.52371578],\n",
       "       [-0.52371578],\n",
       "       [-0.52371578],\n",
       "       [-0.52371578],\n",
       "       [-0.52371578],\n",
       "       [-0.52371578],\n",
       "       [ 1.90943264],\n",
       "       [-0.52371578],\n",
       "       [-0.52371578],\n",
       "       [ 1.90943264],\n",
       "       [-0.52371578],\n",
       "       [-0.52371578],\n",
       "       [-0.52371578],\n",
       "       [-0.52371578],\n",
       "       [-0.52371578],\n",
       "       [-0.52371578],\n",
       "       [-0.52371578],\n",
       "       [-0.52371578],\n",
       "       [-0.52371578],\n",
       "       [-0.52371578],\n",
       "       [-0.52371578],\n",
       "       [-0.52371578],\n",
       "       [-0.52371578],\n",
       "       [ 1.90943264],\n",
       "       [-0.52371578],\n",
       "       [-0.52371578],\n",
       "       [-0.52371578],\n",
       "       [-0.52371578],\n",
       "       [ 1.90943264],\n",
       "       [ 1.90943264],\n",
       "       [-0.52371578],\n",
       "       [-0.52371578],\n",
       "       [-0.52371578],\n",
       "       [-0.52371578],\n",
       "       [-0.52371578],\n",
       "       [-0.52371578],\n",
       "       [-0.52371578],\n",
       "       [ 1.90943264],\n",
       "       [-0.52371578],\n",
       "       [-0.52371578],\n",
       "       [-0.52371578],\n",
       "       [ 1.90943264],\n",
       "       [-0.52371578],\n",
       "       [-0.52371578],\n",
       "       [-0.52371578],\n",
       "       [-0.52371578],\n",
       "       [ 1.90943264],\n",
       "       [-0.52371578],\n",
       "       [ 1.90943264],\n",
       "       [-0.52371578],\n",
       "       [-0.52371578],\n",
       "       [-0.52371578],\n",
       "       [-0.52371578],\n",
       "       [ 1.90943264],\n",
       "       [-0.52371578],\n",
       "       [-0.52371578],\n",
       "       [-0.52371578],\n",
       "       [-0.52371578],\n",
       "       [-0.52371578],\n",
       "       [-0.52371578],\n",
       "       [ 1.90943264],\n",
       "       [-0.52371578],\n",
       "       [-0.52371578],\n",
       "       [-0.52371578],\n",
       "       [-0.52371578],\n",
       "       [ 1.90943264],\n",
       "       [-0.52371578],\n",
       "       [-0.52371578],\n",
       "       [-0.52371578],\n",
       "       [-0.52371578],\n",
       "       [-0.52371578],\n",
       "       [-0.52371578],\n",
       "       [-0.52371578],\n",
       "       [ 1.90943264],\n",
       "       [ 1.90943264],\n",
       "       [-0.52371578],\n",
       "       [-0.52371578],\n",
       "       [ 1.90943264],\n",
       "       [-0.52371578],\n",
       "       [-0.52371578],\n",
       "       [-0.52371578],\n",
       "       [-0.52371578],\n",
       "       [-0.52371578],\n",
       "       [ 1.90943264],\n",
       "       [-0.52371578],\n",
       "       [-0.52371578],\n",
       "       [-0.52371578],\n",
       "       [-0.52371578],\n",
       "       [ 1.90943264],\n",
       "       [-0.52371578],\n",
       "       [-0.52371578],\n",
       "       [-0.52371578],\n",
       "       [-0.52371578],\n",
       "       [-0.52371578],\n",
       "       [-0.52371578],\n",
       "       [ 1.90943264],\n",
       "       [-0.52371578],\n",
       "       [-0.52371578],\n",
       "       [-0.52371578],\n",
       "       [-0.52371578],\n",
       "       [-0.52371578],\n",
       "       [-0.52371578],\n",
       "       [-0.52371578],\n",
       "       [-0.52371578],\n",
       "       [-0.52371578],\n",
       "       [ 1.90943264],\n",
       "       [-0.52371578],\n",
       "       [-0.52371578],\n",
       "       [-0.52371578],\n",
       "       [-0.52371578],\n",
       "       [-0.52371578],\n",
       "       [-0.52371578],\n",
       "       [-0.52371578],\n",
       "       [ 1.90943264],\n",
       "       [-0.52371578],\n",
       "       [-0.52371578],\n",
       "       [ 1.90943264],\n",
       "       [-0.52371578],\n",
       "       [ 1.90943264],\n",
       "       [-0.52371578],\n",
       "       [-0.52371578],\n",
       "       [-0.52371578],\n",
       "       [-0.52371578],\n",
       "       [ 1.90943264],\n",
       "       [ 1.90943264],\n",
       "       [ 1.90943264],\n",
       "       [-0.52371578],\n",
       "       [ 1.90943264],\n",
       "       [-0.52371578],\n",
       "       [ 1.90943264],\n",
       "       [-0.52371578],\n",
       "       [-0.52371578],\n",
       "       [-0.52371578],\n",
       "       [ 1.90943264],\n",
       "       [-0.52371578],\n",
       "       [-0.52371578],\n",
       "       [-0.52371578],\n",
       "       [-0.52371578],\n",
       "       [-0.52371578],\n",
       "       [-0.52371578],\n",
       "       [-0.52371578],\n",
       "       [ 1.90943264],\n",
       "       [-0.52371578],\n",
       "       [-0.52371578],\n",
       "       [ 1.90943264],\n",
       "       [-0.52371578],\n",
       "       [-0.52371578],\n",
       "       [-0.52371578],\n",
       "       [-0.52371578],\n",
       "       [-0.52371578],\n",
       "       [-0.52371578],\n",
       "       [-0.52371578],\n",
       "       [-0.52371578],\n",
       "       [-0.52371578],\n",
       "       [-0.52371578],\n",
       "       [ 1.90943264],\n",
       "       [-0.52371578],\n",
       "       [-0.52371578],\n",
       "       [-0.52371578],\n",
       "       [-0.52371578],\n",
       "       [-0.52371578],\n",
       "       [-0.52371578],\n",
       "       [ 1.90943264],\n",
       "       [ 1.90943264],\n",
       "       [ 1.90943264],\n",
       "       [-0.52371578],\n",
       "       [-0.52371578],\n",
       "       [-0.52371578],\n",
       "       [-0.52371578],\n",
       "       [-0.52371578],\n",
       "       [-0.52371578],\n",
       "       [ 1.90943264],\n",
       "       [-0.52371578],\n",
       "       [-0.52371578],\n",
       "       [-0.52371578],\n",
       "       [-0.52371578],\n",
       "       [-0.52371578],\n",
       "       [-0.52371578],\n",
       "       [-0.52371578],\n",
       "       [-0.52371578],\n",
       "       [-0.52371578],\n",
       "       [-0.52371578],\n",
       "       [-0.52371578],\n",
       "       [ 1.90943264],\n",
       "       [-0.52371578],\n",
       "       [-0.52371578],\n",
       "       [-0.52371578],\n",
       "       [-0.52371578],\n",
       "       [-0.52371578],\n",
       "       [-0.52371578],\n",
       "       [ 1.90943264],\n",
       "       [-0.52371578],\n",
       "       [-0.52371578],\n",
       "       [-0.52371578],\n",
       "       [-0.52371578],\n",
       "       [-0.52371578],\n",
       "       [-0.52371578],\n",
       "       [-0.52371578],\n",
       "       [-0.52371578],\n",
       "       [-0.52371578],\n",
       "       [-0.52371578],\n",
       "       [-0.52371578],\n",
       "       [-0.52371578],\n",
       "       [-0.52371578],\n",
       "       [-0.52371578],\n",
       "       [ 1.90943264],\n",
       "       [ 1.90943264],\n",
       "       [-0.52371578],\n",
       "       [-0.52371578],\n",
       "       [ 1.90943264],\n",
       "       [-0.52371578],\n",
       "       [-0.52371578],\n",
       "       [-0.52371578],\n",
       "       [ 1.90943264],\n",
       "       [-0.52371578],\n",
       "       [ 1.90943264],\n",
       "       [-0.52371578],\n",
       "       [ 1.90943264],\n",
       "       [-0.52371578],\n",
       "       [-0.52371578],\n",
       "       [-0.52371578],\n",
       "       [-0.52371578],\n",
       "       [-0.52371578],\n",
       "       [ 1.90943264],\n",
       "       [-0.52371578],\n",
       "       [-0.52371578],\n",
       "       [-0.52371578],\n",
       "       [-0.52371578],\n",
       "       [-0.52371578],\n",
       "       [ 1.90943264],\n",
       "       [-0.52371578],\n",
       "       [ 1.90943264],\n",
       "       [-0.52371578],\n",
       "       [-0.52371578],\n",
       "       [ 1.90943264],\n",
       "       [-0.52371578],\n",
       "       [-0.52371578],\n",
       "       [-0.52371578],\n",
       "       [-0.52371578],\n",
       "       [-0.52371578],\n",
       "       [-0.52371578],\n",
       "       [-0.52371578],\n",
       "       [-0.52371578],\n",
       "       [-0.52371578],\n",
       "       [-0.52371578],\n",
       "       [-0.52371578],\n",
       "       [ 1.90943264],\n",
       "       [-0.52371578],\n",
       "       [-0.52371578],\n",
       "       [ 1.90943264],\n",
       "       [-0.52371578],\n",
       "       [-0.52371578],\n",
       "       [-0.52371578],\n",
       "       [-0.52371578],\n",
       "       [-0.52371578],\n",
       "       [-0.52371578],\n",
       "       [-0.52371578],\n",
       "       [ 1.90943264],\n",
       "       [-0.52371578],\n",
       "       [-0.52371578],\n",
       "       [-0.52371578],\n",
       "       [ 1.90943264],\n",
       "       [-0.52371578],\n",
       "       [-0.52371578],\n",
       "       [-0.52371578],\n",
       "       [ 1.90943264],\n",
       "       [-0.52371578],\n",
       "       [-0.52371578],\n",
       "       [-0.52371578],\n",
       "       [-0.52371578],\n",
       "       [-0.52371578],\n",
       "       [-0.52371578],\n",
       "       [-0.52371578],\n",
       "       [-0.52371578],\n",
       "       [-0.52371578],\n",
       "       [-0.52371578],\n",
       "       [-0.52371578],\n",
       "       [ 1.90943264],\n",
       "       [ 1.90943264],\n",
       "       [-0.52371578],\n",
       "       [-0.52371578],\n",
       "       [-0.52371578],\n",
       "       [ 1.90943264],\n",
       "       [-0.52371578],\n",
       "       [-0.52371578],\n",
       "       [-0.52371578],\n",
       "       [-0.52371578],\n",
       "       [-0.52371578],\n",
       "       [-0.52371578],\n",
       "       [-0.52371578],\n",
       "       [-0.52371578],\n",
       "       [-0.52371578],\n",
       "       [-0.52371578],\n",
       "       [-0.52371578],\n",
       "       [-0.52371578],\n",
       "       [-0.52371578],\n",
       "       [ 1.90943264],\n",
       "       [-0.52371578],\n",
       "       [ 1.90943264],\n",
       "       [ 1.90943264],\n",
       "       [ 1.90943264],\n",
       "       [-0.52371578],\n",
       "       [ 1.90943264],\n",
       "       [-0.52371578],\n",
       "       [-0.52371578],\n",
       "       [-0.52371578],\n",
       "       [-0.52371578],\n",
       "       [-0.52371578],\n",
       "       [-0.52371578],\n",
       "       [-0.52371578],\n",
       "       [-0.52371578],\n",
       "       [-0.52371578],\n",
       "       [-0.52371578],\n",
       "       [-0.52371578],\n",
       "       [-0.52371578],\n",
       "       [-0.52371578],\n",
       "       [-0.52371578],\n",
       "       [-0.52371578],\n",
       "       [-0.52371578],\n",
       "       [-0.52371578],\n",
       "       [ 1.90943264],\n",
       "       [-0.52371578],\n",
       "       [-0.52371578],\n",
       "       [-0.52371578],\n",
       "       [ 1.90943264],\n",
       "       [-0.52371578],\n",
       "       [ 1.90943264],\n",
       "       [-0.52371578],\n",
       "       [ 1.90943264],\n",
       "       [-0.52371578],\n",
       "       [-0.52371578],\n",
       "       [-0.52371578],\n",
       "       [-0.52371578],\n",
       "       [ 1.90943264],\n",
       "       [-0.52371578],\n",
       "       [-0.52371578],\n",
       "       [-0.52371578],\n",
       "       [-0.52371578],\n",
       "       [ 1.90943264],\n",
       "       [-0.52371578],\n",
       "       [-0.52371578],\n",
       "       [-0.52371578],\n",
       "       [-0.52371578],\n",
       "       [-0.52371578],\n",
       "       [ 1.90943264],\n",
       "       [ 1.90943264],\n",
       "       [-0.52371578],\n",
       "       [-0.52371578],\n",
       "       [-0.52371578],\n",
       "       [-0.52371578],\n",
       "       [-0.52371578],\n",
       "       [-0.52371578],\n",
       "       [-0.52371578],\n",
       "       [-0.52371578],\n",
       "       [-0.52371578],\n",
       "       [-0.52371578],\n",
       "       [-0.52371578],\n",
       "       [-0.52371578],\n",
       "       [-0.52371578],\n",
       "       [-0.52371578],\n",
       "       [-0.52371578],\n",
       "       [-0.52371578],\n",
       "       [-0.52371578],\n",
       "       [-0.52371578],\n",
       "       [-0.52371578],\n",
       "       [-0.52371578],\n",
       "       [-0.52371578],\n",
       "       [-0.52371578],\n",
       "       [-0.52371578],\n",
       "       [-0.52371578],\n",
       "       [ 1.90943264],\n",
       "       [-0.52371578],\n",
       "       [ 1.90943264],\n",
       "       [ 1.90943264],\n",
       "       [-0.52371578],\n",
       "       [-0.52371578],\n",
       "       [ 1.90943264],\n",
       "       [-0.52371578],\n",
       "       [-0.52371578],\n",
       "       [-0.52371578],\n",
       "       [-0.52371578],\n",
       "       [-0.52371578],\n",
       "       [-0.52371578],\n",
       "       [-0.52371578],\n",
       "       [ 1.90943264],\n",
       "       [-0.52371578],\n",
       "       [-0.52371578],\n",
       "       [-0.52371578],\n",
       "       [-0.52371578],\n",
       "       [-0.52371578],\n",
       "       [-0.52371578],\n",
       "       [-0.52371578],\n",
       "       [-0.52371578],\n",
       "       [ 1.90943264],\n",
       "       [-0.52371578],\n",
       "       [-0.52371578],\n",
       "       [-0.52371578],\n",
       "       [-0.52371578],\n",
       "       [ 1.90943264],\n",
       "       [-0.52371578],\n",
       "       [-0.52371578],\n",
       "       [-0.52371578],\n",
       "       [ 1.90943264],\n",
       "       [-0.52371578],\n",
       "       [-0.52371578],\n",
       "       [-0.52371578],\n",
       "       [ 1.90943264],\n",
       "       [-0.52371578],\n",
       "       [-0.52371578],\n",
       "       [-0.52371578],\n",
       "       [-0.52371578],\n",
       "       [-0.52371578],\n",
       "       [ 1.90943264],\n",
       "       [-0.52371578],\n",
       "       [-0.52371578],\n",
       "       [ 1.90943264],\n",
       "       [-0.52371578],\n",
       "       [-0.52371578],\n",
       "       [-0.52371578],\n",
       "       [ 1.90943264],\n",
       "       [-0.52371578],\n",
       "       [-0.52371578],\n",
       "       [-0.52371578],\n",
       "       [-0.52371578],\n",
       "       [-0.52371578],\n",
       "       [-0.52371578],\n",
       "       [-0.52371578],\n",
       "       [ 1.90943264],\n",
       "       [-0.52371578],\n",
       "       [-0.52371578],\n",
       "       [-0.52371578],\n",
       "       [ 1.90943264],\n",
       "       [-0.52371578],\n",
       "       [-0.52371578],\n",
       "       [ 1.90943264],\n",
       "       [ 1.90943264],\n",
       "       [-0.52371578],\n",
       "       [ 1.90943264],\n",
       "       [-0.52371578],\n",
       "       [-0.52371578],\n",
       "       [ 1.90943264],\n",
       "       [-0.52371578],\n",
       "       [ 1.90943264],\n",
       "       [-0.52371578],\n",
       "       [-0.52371578],\n",
       "       [-0.52371578],\n",
       "       [ 1.90943264],\n",
       "       [-0.52371578],\n",
       "       [ 1.90943264],\n",
       "       [-0.52371578],\n",
       "       [-0.52371578],\n",
       "       [-0.52371578],\n",
       "       [-0.52371578],\n",
       "       [-0.52371578],\n",
       "       [-0.52371578],\n",
       "       [-0.52371578],\n",
       "       [-0.52371578],\n",
       "       [ 1.90943264],\n",
       "       [-0.52371578],\n",
       "       [-0.52371578],\n",
       "       [-0.52371578],\n",
       "       [-0.52371578],\n",
       "       [-0.52371578],\n",
       "       [ 1.90943264],\n",
       "       [-0.52371578],\n",
       "       [-0.52371578],\n",
       "       [-0.52371578],\n",
       "       [-0.52371578],\n",
       "       [-0.52371578],\n",
       "       [-0.52371578],\n",
       "       [ 1.90943264],\n",
       "       [-0.52371578],\n",
       "       [-0.52371578],\n",
       "       [ 1.90943264],\n",
       "       [-0.52371578],\n",
       "       [ 1.90943264],\n",
       "       [-0.52371578],\n",
       "       [-0.52371578],\n",
       "       [ 1.90943264],\n",
       "       [-0.52371578],\n",
       "       [-0.52371578],\n",
       "       [-0.52371578],\n",
       "       [-0.52371578],\n",
       "       [ 1.90943264],\n",
       "       [ 1.90943264],\n",
       "       [-0.52371578],\n",
       "       [-0.52371578],\n",
       "       [ 1.90943264],\n",
       "       [ 1.90943264],\n",
       "       [-0.52371578],\n",
       "       [-0.52371578],\n",
       "       [ 1.90943264],\n",
       "       [ 1.90943264],\n",
       "       [-0.52371578],\n",
       "       [-0.52371578],\n",
       "       [-0.52371578],\n",
       "       [-0.52371578],\n",
       "       [-0.52371578],\n",
       "       [-0.52371578],\n",
       "       [-0.52371578],\n",
       "       [-0.52371578],\n",
       "       [-0.52371578],\n",
       "       [-0.52371578],\n",
       "       [-0.52371578],\n",
       "       [-0.52371578],\n",
       "       [-0.52371578],\n",
       "       [-0.52371578],\n",
       "       [-0.52371578],\n",
       "       [-0.52371578],\n",
       "       [-0.52371578],\n",
       "       [-0.52371578],\n",
       "       [-0.52371578],\n",
       "       [ 1.90943264],\n",
       "       [-0.52371578],\n",
       "       [-0.52371578],\n",
       "       [-0.52371578],\n",
       "       [-0.52371578],\n",
       "       [-0.52371578],\n",
       "       [-0.52371578],\n",
       "       [-0.52371578],\n",
       "       [-0.52371578],\n",
       "       [-0.52371578],\n",
       "       [-0.52371578],\n",
       "       [-0.52371578],\n",
       "       [-0.52371578],\n",
       "       [ 1.90943264],\n",
       "       [ 1.90943264],\n",
       "       [-0.52371578],\n",
       "       [-0.52371578],\n",
       "       [ 1.90943264],\n",
       "       [-0.52371578],\n",
       "       [-0.52371578],\n",
       "       [-0.52371578],\n",
       "       [-0.52371578],\n",
       "       [-0.52371578],\n",
       "       [ 1.90943264],\n",
       "       [ 1.90943264],\n",
       "       [-0.52371578],\n",
       "       [-0.52371578],\n",
       "       [-0.52371578],\n",
       "       [-0.52371578],\n",
       "       [-0.52371578],\n",
       "       [-0.52371578],\n",
       "       [-0.52371578],\n",
       "       [-0.52371578],\n",
       "       [-0.52371578],\n",
       "       [ 1.90943264],\n",
       "       [-0.52371578],\n",
       "       [-0.52371578],\n",
       "       [ 1.90943264],\n",
       "       [ 1.90943264],\n",
       "       [-0.52371578],\n",
       "       [-0.52371578],\n",
       "       [-0.52371578],\n",
       "       [-0.52371578],\n",
       "       [-0.52371578],\n",
       "       [-0.52371578],\n",
       "       [-0.52371578],\n",
       "       [ 1.90943264],\n",
       "       [-0.52371578],\n",
       "       [-0.52371578],\n",
       "       [-0.52371578],\n",
       "       [ 1.90943264],\n",
       "       [-0.52371578],\n",
       "       [-0.52371578],\n",
       "       [-0.52371578],\n",
       "       [-0.52371578],\n",
       "       [-0.52371578],\n",
       "       [ 1.90943264],\n",
       "       [ 1.90943264],\n",
       "       [-0.52371578],\n",
       "       [-0.52371578],\n",
       "       [-0.52371578],\n",
       "       [-0.52371578],\n",
       "       [-0.52371578],\n",
       "       [-0.52371578],\n",
       "       [-0.52371578],\n",
       "       [ 1.90943264],\n",
       "       [ 1.90943264],\n",
       "       [-0.52371578],\n",
       "       [-0.52371578],\n",
       "       [-0.52371578],\n",
       "       [-0.52371578],\n",
       "       [-0.52371578],\n",
       "       [-0.52371578],\n",
       "       [ 1.90943264],\n",
       "       [-0.52371578],\n",
       "       [ 1.90943264],\n",
       "       [-0.52371578],\n",
       "       [-0.52371578],\n",
       "       [-0.52371578],\n",
       "       [-0.52371578],\n",
       "       [-0.52371578],\n",
       "       [-0.52371578],\n",
       "       [-0.52371578],\n",
       "       [-0.52371578],\n",
       "       [-0.52371578],\n",
       "       [-0.52371578],\n",
       "       [ 1.90943264],\n",
       "       [-0.52371578],\n",
       "       [-0.52371578],\n",
       "       [-0.52371578],\n",
       "       [-0.52371578],\n",
       "       [-0.52371578],\n",
       "       [-0.52371578],\n",
       "       [ 1.90943264],\n",
       "       [-0.52371578],\n",
       "       [-0.52371578],\n",
       "       [-0.52371578],\n",
       "       [ 1.90943264],\n",
       "       [ 1.90943264],\n",
       "       [ 1.90943264],\n",
       "       [-0.52371578],\n",
       "       [-0.52371578],\n",
       "       [-0.52371578],\n",
       "       [ 1.90943264],\n",
       "       [-0.52371578],\n",
       "       [-0.52371578],\n",
       "       [ 1.90943264],\n",
       "       [-0.52371578],\n",
       "       [-0.52371578],\n",
       "       [-0.52371578],\n",
       "       [-0.52371578],\n",
       "       [-0.52371578],\n",
       "       [-0.52371578],\n",
       "       [-0.52371578],\n",
       "       [-0.52371578],\n",
       "       [-0.52371578],\n",
       "       [ 1.90943264],\n",
       "       [ 1.90943264],\n",
       "       [-0.52371578],\n",
       "       [ 1.90943264],\n",
       "       [ 1.90943264],\n",
       "       [-0.52371578],\n",
       "       [-0.52371578],\n",
       "       [-0.52371578],\n",
       "       [ 1.90943264],\n",
       "       [ 1.90943264],\n",
       "       [-0.52371578],\n",
       "       [-0.52371578],\n",
       "       [-0.52371578],\n",
       "       [-0.52371578],\n",
       "       [-0.52371578],\n",
       "       [ 1.90943264],\n",
       "       [-0.52371578],\n",
       "       [ 1.90943264],\n",
       "       [-0.52371578],\n",
       "       [-0.52371578],\n",
       "       [-0.52371578],\n",
       "       [-0.52371578],\n",
       "       [-0.52371578],\n",
       "       [-0.52371578],\n",
       "       [-0.52371578],\n",
       "       [-0.52371578],\n",
       "       [-0.52371578]])"
      ]
     },
     "execution_count": 66,
     "metadata": {},
     "output_type": "execute_result"
    }
   ],
   "source": [
    "scaling.fit_transform(df_copy[['smoker']])"
   ]
  },
  {
   "cell_type": "code",
   "execution_count": 67,
   "metadata": {},
   "outputs": [],
   "source": [
    "from sklearn.model_selection import train_test_split\n",
    "X_train, X_test, y_train, y_test = train_test_split(X, y, test_size=0.2, random_state=42)"
   ]
  },
  {
   "cell_type": "code",
   "execution_count": 89,
   "metadata": {},
   "outputs": [],
   "source": [
    "# Q3 Using different regression machine learning methods"
   ]
  },
  {
   "cell_type": "code",
   "execution_count": 68,
   "metadata": {},
   "outputs": [],
   "source": [
    "# Using linear Regression\n",
    "from sklearn import linear_model\n",
    "from sklearn.metrics import mean_absolute_error\n",
    "from sklearn.metrics import mean_squared_error\n",
    "reg_all = linear_model.LinearRegression()\n",
    "reg_all.fit(X_train, y_train)\n",
    "y_pred_linear = reg_all.predict(X_test)\n"
   ]
  },
  {
   "cell_type": "code",
   "execution_count": 69,
   "metadata": {},
   "outputs": [
    {
     "data": {
      "text/plain": [
       "array([-103.01270336,  458.54837669,   92.86067814, ...,  179.87749277,\n",
       "        258.92879762,  157.14357596])"
      ]
     },
     "execution_count": 69,
     "metadata": {},
     "output_type": "execute_result"
    }
   ],
   "source": [
    "y_pred_linear"
   ]
  },
  {
   "cell_type": "code",
   "execution_count": 70,
   "metadata": {},
   "outputs": [],
   "source": [
    "# Using Decision Tree\n",
    "from sklearn.tree import DecisionTreeRegressor\n",
    "from sklearn.metrics import mean_absolute_error\n",
    "from sklearn.metrics import mean_squared_error\n",
    "regressor = DecisionTreeRegressor()\n",
    "regressor.fit(X_train, y_train)\n",
    "y_pred_tree = regressor.predict(X_test)\n"
   ]
  },
  {
   "cell_type": "code",
   "execution_count": 71,
   "metadata": {},
   "outputs": [
    {
     "data": {
      "text/plain": [
       "array([  53.76382866, 3160.81429884,   25.11724099, ...,  179.15948086,\n",
       "         96.33882358,   44.6860099 ])"
      ]
     },
     "execution_count": 71,
     "metadata": {},
     "output_type": "execute_result"
    }
   ],
   "source": [
    "y_pred_tree"
   ]
  },
  {
   "cell_type": "code",
   "execution_count": 72,
   "metadata": {},
   "outputs": [],
   "source": [
    "# Using  Random Forest\n",
    "from sklearn.ensemble import RandomForestRegressor\n",
    "from sklearn.metrics import mean_absolute_error\n",
    "from sklearn.metrics import mean_squared_error\n",
    "rf = RandomForestRegressor(n_estimators = 6)\n",
    "rf.fit(X_train, y_train)\n",
    "y_pred_forest = rf.predict(X_test)\n"
   ]
  },
  {
   "cell_type": "code",
   "execution_count": 73,
   "metadata": {},
   "outputs": [
    {
     "data": {
      "text/plain": [
       "array([ 49.83648019, 641.50998935,  60.86993471, ...,  43.21431334,\n",
       "       373.96812817,  56.77210193])"
      ]
     },
     "execution_count": 73,
     "metadata": {},
     "output_type": "execute_result"
    }
   ],
   "source": [
    "y_pred_forest"
   ]
  },
  {
   "cell_type": "code",
   "execution_count": null,
   "metadata": {},
   "outputs": [],
   "source": [
    "# Using PolynomialRegression\n",
    "from sklearn.preprocessing import PolynomialFeatures\n",
    "poly = PolynomialFeatures(degree = 2)\n",
    "X_train = poly.fit_transform(X_train)\n",
    "X_test = poly.fit_transform(X_test)\n",
    "reg_all = linear_model.LinearRegression()\n",
    "reg_all.fit(X_train,Y_train)\n",
    "y_pred_poly=reg_all.predict(X_test)\n"
   ]
  },
  {
   "cell_type": "code",
   "execution_count": 78,
   "metadata": {},
   "outputs": [
    {
     "data": {
      "text/plain": [
       "array([421.75    , 827.546875, 357.421875, ..., -54.875   , 165.84375 ,\n",
       "       275.21875 ])"
      ]
     },
     "execution_count": 78,
     "metadata": {},
     "output_type": "execute_result"
    }
   ],
   "source": [
    "y_pred_poly"
   ]
  },
  {
   "cell_type": "code",
   "execution_count": null,
   "metadata": {},
   "outputs": [],
   "source": [
    "# Best Model \n",
    "Random Forest: The values are well distributed from the output shown"
   ]
  },
  {
   "cell_type": "code",
   "execution_count": null,
   "metadata": {},
   "outputs": [],
   "source": []
  },
  {
   "cell_type": "code",
   "execution_count": null,
   "metadata": {},
   "outputs": [],
   "source": [
    "#Q4"
   ]
  },
  {
   "cell_type": "code",
   "execution_count": 82,
   "metadata": {},
   "outputs": [],
   "source": [
    "from sklearn.datasets import make_regression\n",
    "from sklearn.model_selection import train_test_split\n",
    "from sklearn.compose import TransformedTargetRegressor\n",
    "X, y = make_regression(n_samples=10000, noise=100, random_state=0)\n",
    "y = np.expm1((y + abs(y.min())) / 200)\n",
    "y_trans = TransformedTargetRegressor(func=np.log1p,\n",
    "                                     inverse_func=np.expm1)\n"
   ]
  },
  {
   "cell_type": "code",
   "execution_count": 84,
   "metadata": {},
   "outputs": [
    {
     "name": "stdout",
     "output_type": "stream",
     "text": [
      "mae: 105.416419\n",
      "Rsquare: 0.154832\n",
      "rmse: 232.235757\n"
     ]
    }
   ],
   "source": [
    "# Random Forest\n",
    "from sklearn.ensemble import RandomForestRegressor\n",
    "from sklearn.metrics import mean_absolute_error\n",
    "from sklearn.metrics import mean_squared_error\n",
    "rf = RandomForestRegressor(n_estimators = 6)\n",
    "rf.fit(X_train, y_train)\n",
    "y_pred_forest = rf.predict(X_test)\n",
    "\n",
    "mae = mean_absolute_error(y_test, y_pred_forest)\n",
    "print(\"mae: %f\" %(mae))\n",
    "\n",
    "Rsquare=rf.score(X_test, y_test)\n",
    "print(\"Rsquare: %f\" %(Rsquare))\n",
    "\n",
    "rmse=np.sqrt(mean_squared_error(y_test, y_pred_forest))\n",
    "print(\"rmse: %f\" %(rmse))"
   ]
  },
  {
   "cell_type": "code",
   "execution_count": 85,
   "metadata": {},
   "outputs": [
    {
     "data": {
      "text/plain": [
       "array([ 56.98355916, 444.33124092,  76.78690191, ..., 140.08413342,\n",
       "       304.85382464,  66.76565807])"
      ]
     },
     "execution_count": 85,
     "metadata": {},
     "output_type": "execute_result"
    }
   ],
   "source": [
    "y_pred_forest"
   ]
  },
  {
   "cell_type": "code",
   "execution_count": null,
   "metadata": {},
   "outputs": [],
   "source": []
  }
 ],
 "metadata": {
  "kernelspec": {
   "display_name": "Python 3",
   "language": "python",
   "name": "python3"
  },
  "language_info": {
   "codemirror_mode": {
    "name": "ipython",
    "version": 3
   },
   "file_extension": ".py",
   "mimetype": "text/x-python",
   "name": "python",
   "nbconvert_exporter": "python",
   "pygments_lexer": "ipython3",
   "version": "3.8.5"
  }
 },
 "nbformat": 4,
 "nbformat_minor": 4
}
